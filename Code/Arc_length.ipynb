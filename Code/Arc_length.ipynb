{
  "nbformat": 4,
  "nbformat_minor": 0,
  "metadata": {
    "colab": {
      "provenance": []
    },
    "kernelspec": {
      "name": "python3",
      "display_name": "Python 3"
    },
    "language_info": {
      "name": "python"
    }
  },
  "cells": [
    {
      "cell_type": "code",
      "execution_count": null,
      "metadata": {
        "id": "DwYNmz-IRMXS"
      },
      "outputs": [],
      "source": [
        "import numpy as np\n",
        "from numpy.core.fromnumeric import mean\n",
        "from utils import *\n",
        "from fractals import *\n",
        "from inflections import *\n",
        "\n",
        "\n",
        "def arclength(order,img):\n",
        "    h = distance(order[0],order[-1])\n",
        "\n",
        "    arclength = 0\n",
        "    n = len(order)\n",
        "    for i in range(n-1):\n",
        "        arclength+= distance(order[i],order[i+1])\n",
        "\n",
        "    t = arclength/h\n",
        "\n",
        "    return t\n",
        "\n",
        "def tortuosity(img):\n",
        "    k = 0\n",
        "\n",
        "    contours,hier = cv2.findContours(img,cv2.RETR_EXTERNAL,cv2.CHAIN_APPROX_SIMPLE)\n",
        "\n",
        "    torts = []\n",
        "    arc_torts = []\n",
        "    for cnt in contours:\n",
        "        output = cv2.drawContours(np.zeros(img.shape,dtype = np.uint8),[cnt],-1,(255,255,255),1)\n",
        "        count = np.count_nonzero(output)\n",
        "        if count>=30:\n",
        "\n",
        "            x,y,h,w = cv2.boundingRect(cnt)\n",
        "\n",
        "            roi = output[y:y+w, x:x+h]\n",
        "\n",
        "            r,c = roi.shape\n",
        "            back = np.zeros((r+2,c+2),dtype=np.uint8)\n",
        "            back[1:r+1,1:c+1] = roi\n",
        "\n",
        "            iroi = back.copy()\n",
        "            # cv2.imshow('iroi',iroi)\n",
        "            # cv2.waitKey(0)\n",
        "            order = order_points(iroi)\n",
        "\n",
        "\n",
        "\n",
        "            inflections = contour_inflections(iroi)\n",
        "            clean = []\n",
        "            [clean.append(x) for x in inflections if x not in clean]\n",
        "\n",
        "            angles = get_angles(inflections)\n",
        "            c_angles = [incom for incom in angles if str(incom) != 'nan']\n",
        "            torts.append(mean(c_angles))\n",
        "\n",
        "            arcbased = arclength(order,iroi)\n",
        "            arc_torts.append(arcbased)\n",
        "\n",
        "    tortuos = (180/mean(torts))\n",
        "\n",
        "    return mean(torts), tortuos, mean(arc_torts)"
      ]
    }
  ]
}