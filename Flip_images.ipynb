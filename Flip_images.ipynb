{
  "nbformat": 4,
  "nbformat_minor": 0,
  "metadata": {
    "colab": {
      "provenance": []
    },
    "kernelspec": {
      "name": "python3",
      "display_name": "Python 3"
    },
    "language_info": {
      "name": "python"
    }
  },
  "cells": [
    {
      "cell_type": "code",
      "execution_count": null,
      "metadata": {
        "id": "7ANihvmgQHxO"
      },
      "outputs": [],
      "source": [
        "import cv2\n",
        "import os\n",
        "#modify the path according to yours\n",
        "path=\"datasets/training/images/\"\n",
        "lpath = \"datasets/training/label/\"\n",
        "save=\"data/train/image/\"\n",
        "savelabels = \"data/train/label/\"\n",
        "for name,lname in zip(os.listdir(path),os.listdir(lpath)):\n",
        "    image = cv2.imread(path+name)\n",
        "    label = cv2.imread(lpath+lname)\n",
        "\n",
        "    cv2.imwrite(save+\"o\"+name, image)\n",
        "    cv2.imwrite(savelabels+\"o\"+lname, label)\n",
        "\n",
        "    # Flipped Horizontally\n",
        "    h_flip = cv2.flip(image, 1)\n",
        "    h_flip_label = cv2.flip(label, 1)\n",
        "    cv2.imwrite(save+\"h\"+name, h_flip)\n",
        "    cv2.imwrite(savelabels+\"h\"+lname, h_flip_label)\n",
        "\n",
        "    v_flip = cv2.flip(image, 0)\n",
        "    v_flip_label = cv2.flip(label, 0)\n",
        "    cv2.imwrite(save+\"v\"+name, v_flip)\n",
        "    cv2.imwrite(savelabels+\"v\"+lname, v_flip_label)\n",
        "\n",
        "\n",
        "    hv_flip = cv2.flip(image, -1)\n",
        "    hv_flip_label = cv2.flip(label, -1)\n",
        "    cv2.imwrite(save+\"hv\"+name, hv_flip)\n",
        "    cv2.imwrite(savelabels+\"hv\"+lname, hv_flip_label)"
      ]
    }
  ]
}